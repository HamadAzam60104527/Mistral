{
 "cells": [
  {
   "cell_type": "code",
   "execution_count": 73,
   "metadata": {},
   "outputs": [
    {
     "name": "stdout",
     "output_type": "stream",
     "text": [
      "MISTRAL_API_KEY: NXyKdE5JFehmTjXn1RtYyVBOlMzPLGyB\n"
     ]
    }
   ],
   "source": [
    "import os\n",
    "os.environ[\"MISTRAL_API_KEY\"] = \"NXyKdE5JFehmTjXn1RtYyVBOlMzPLGyB\"\n",
    "print(f\"MISTRAL_API_KEY: {os.environ.get('MISTRAL_API_KEY')}\")"
   ]
  },
  {
   "cell_type": "code",
   "execution_count": 74,
   "metadata": {},
   "outputs": [],
   "source": [
    "api_key = os.getenv(\"MISTRAL_API_KEY\")"
   ]
  },
  {
   "cell_type": "code",
   "execution_count": 75,
   "metadata": {},
   "outputs": [
    {
     "name": "stdout",
     "output_type": "stream",
     "text": [
      "Extracted text from: https://www.udst.edu.qa/about-udst/institutional-excellence-ie/policies-and-procedures/student-conduct-policy\n",
      "Extracted text from: https://www.udst.edu.qa/about-udst/institutional-excellence-ie/udst-policies-and-procedures/academic-schedule-policy\n",
      "Extracted text from: https://www.udst.edu.qa/about-udst/institutional-excellence-ie/policies-and-procedures/student-attendance-policy\n",
      "Extracted text from: https://www.udst.edu.qa/about-udst/institutional-excellence-ie/policies-and-procedures/admissions-policy\n",
      "Extracted text from: https://www.udst.edu.qa/about-udst/institutional-excellence-ie/policies-and-procedures/registration-policy\n",
      "Extracted text from: https://www.udst.edu.qa/about-udst/institutional-excellence-ie/policies-and-procedures/sport-and-wellness-facilities-and\n",
      "Extracted text from: https://www.udst.edu.qa/about-udst/institutional-excellence-ie/udst-policies-and-procedures/international-student-policy\n",
      "Extracted text from: https://www.udst.edu.qa/about-udst/institutional-excellence-ie/udst-policies-and-procedures/student-counselling-services-policy\n",
      "Extracted text from: https://www.udst.edu.qa/about-udst/institutional-excellence-ie/udst-policies-and-procedures/graduate-academic-standing-policy\n",
      "Extracted text from: https://www.udst.edu.qa/about-udst/institutional-excellence-ie/policies-and-procedures/use-library-space-policy\n",
      "Extracted text from: https://www.udst.edu.qa/about-udst/institutional-excellence-ie/policies-and-procedures/scholarship-and-financial-assistance\n"
     ]
    }
   ],
   "source": [
    "import requests\n",
    "from bs4 import BeautifulSoup\n",
    "import re\n",
    "\n",
    "policyLinks = [\n",
    "    \"https://www.udst.edu.qa/about-udst/institutional-excellence-ie/policies-and-procedures/student-conduct-policy\",\n",
    "    \"https://www.udst.edu.qa/about-udst/institutional-excellence-ie/udst-policies-and-procedures/academic-schedule-policy\",\n",
    "    \"https://www.udst.edu.qa/about-udst/institutional-excellence-ie/policies-and-procedures/student-attendance-policy\",\n",
    "    \"https://www.udst.edu.qa/about-udst/institutional-excellence-ie/policies-and-procedures/admissions-policy\",\n",
    "    \"https://www.udst.edu.qa/about-udst/institutional-excellence-ie/policies-and-procedures/registration-policy\",\n",
    "    \"https://www.udst.edu.qa/about-udst/institutional-excellence-ie/policies-and-procedures/sport-and-wellness-facilities-and\",\n",
    "    \"https://www.udst.edu.qa/about-udst/institutional-excellence-ie/udst-policies-and-procedures/international-student-policy\",\n",
    "    \"https://www.udst.edu.qa/about-udst/institutional-excellence-ie/udst-policies-and-procedures/student-counselling-services-policy\",\n",
    "    \"https://www.udst.edu.qa/about-udst/institutional-excellence-ie/udst-policies-and-procedures/graduate-academic-standing-policy\",\n",
    "    \"https://www.udst.edu.qa/about-udst/institutional-excellence-ie/policies-and-procedures/use-library-space-policy\",\n",
    "    \"https://www.udst.edu.qa/about-udst/institutional-excellence-ie/policies-and-procedures/scholarship-and-financial-assistance\"\n",
    "]\n",
    "\n",
    "all_texts = {}\n",
    "\n",
    "for url in policyLinks:\n",
    "    response = requests.get(url)\n",
    "    soup = BeautifulSoup(response.text, \"html.parser\")\n",
    "    text = soup.get_text(separator=\"\\n\", strip=True)\n",
    "    all_texts[url] = text\n",
    "    print(f\"Extracted text from: {url}\")\n",
    "\n"
   ]
  },
  {
   "cell_type": "code",
   "execution_count": null,
   "metadata": {},
   "outputs": [],
   "source": [
    "file_name = \"Text.txt\"\n",
    "with open(file_name, 'w') as file:\n",
    "    file.write(text)"
   ]
  },
  {
   "cell_type": "code",
   "execution_count": 77,
   "metadata": {},
   "outputs": [],
   "source": [
    "chunk_size = 512\n",
    "chunks = [text[i : i + chunk_size] for i in range(0, len(text), chunk_size)]"
   ]
  },
  {
   "cell_type": "code",
   "execution_count": 78,
   "metadata": {},
   "outputs": [
    {
     "data": {
      "text/plain": [
       "40"
      ]
     },
     "execution_count": 78,
     "metadata": {},
     "output_type": "execute_result"
    }
   ],
   "source": [
    "len(chunks)"
   ]
  },
  {
   "cell_type": "code",
   "execution_count": 79,
   "metadata": {},
   "outputs": [],
   "source": [
    "from mistralai import Mistral\n",
    "def get_text_embedding(list_txt_chunks):\n",
    "    client = Mistral(api_key=api_key)\n",
    "    embeddings_batch_response = client.embeddings.create(model=\"mistral-embed\", inputs=list_txt_chunks)\n",
    "    return embeddings_batch_response.data"
   ]
  },
  {
   "cell_type": "code",
   "execution_count": 80,
   "metadata": {},
   "outputs": [],
   "source": [
    "import numpy as np\n",
    "text_embeddings = get_text_embedding(chunks)"
   ]
  },
  {
   "cell_type": "code",
   "execution_count": 81,
   "metadata": {},
   "outputs": [
    {
     "data": {
      "text/plain": [
       "40"
      ]
     },
     "execution_count": 81,
     "metadata": {},
     "output_type": "execute_result"
    }
   ],
   "source": [
    "len(text_embeddings)"
   ]
  },
  {
   "cell_type": "code",
   "execution_count": 82,
   "metadata": {},
   "outputs": [
    {
     "data": {
      "text/plain": [
       "1024"
      ]
     },
     "execution_count": 82,
     "metadata": {},
     "output_type": "execute_result"
    }
   ],
   "source": [
    "len(text_embeddings[0].embedding)"
   ]
  },
  {
   "cell_type": "code",
   "execution_count": 83,
   "metadata": {},
   "outputs": [],
   "source": [
    "embeddings = np.array([text_embeddings[i].embedding for i in range(len(text_embeddings))])"
   ]
  },
  {
   "cell_type": "code",
   "execution_count": 84,
   "metadata": {},
   "outputs": [],
   "source": [
    "import faiss\n",
    "\n",
    "d = len(text_embeddings[0].embedding)\n",
    "index = faiss.IndexFlatL2(d)\n",
    "index.add(embeddings)"
   ]
  },
  {
   "cell_type": "code",
   "execution_count": 85,
   "metadata": {},
   "outputs": [],
   "source": [
    "question = \"How to get a scholarship\"\n",
    "question_embeddings = np.array([get_text_embedding([question])[0].embedding])"
   ]
  },
  {
   "cell_type": "code",
   "execution_count": 86,
   "metadata": {},
   "outputs": [
    {
     "data": {
      "text/plain": [
       "array([[-0.03778076,  0.03665161,  0.00070381, ..., -0.01670837,\n",
       "        -0.00723267,  0.01064301]])"
      ]
     },
     "execution_count": 86,
     "metadata": {},
     "output_type": "execute_result"
    }
   ],
   "source": [
    "question_embeddings"
   ]
  },
  {
   "cell_type": "code",
   "execution_count": 87,
   "metadata": {},
   "outputs": [
    {
     "name": "stdout",
     "output_type": "stream",
     "text": [
      "[[36 22 18 27  7 24 23 34 32 35]]\n"
     ]
    }
   ],
   "source": [
    "D, I = index.search(question_embeddings, k=10)\n",
    "print(I)"
   ]
  },
  {
   "cell_type": "code",
   "execution_count": 88,
   "metadata": {},
   "outputs": [
    {
     "name": "stdout",
     "output_type": "stream",
     "text": [
      "[' and pay tuition fees to the University can receive their Scholarship Award while participating in the exchange program.\\n9.4 Non-Tuition Expenses\\nScholarship Awards provided by the University are applied to the University’s tuition and related fees only and cannot be applied to non-tuition related expenses including but not limited to transportation, meals, books, and personal supplies.\\n9.5 Retroactive Awards\\nScholarship Awards provided by the University cannot be applied retroactively.\\n\\nThe Award becomes a', 'ncial Assistance Award.\\n5.0 Scholarship Eligibility\\n5.1 Scholarship Application and Awards\\n5.1.1 Applicants must meet or exceed the minimum criteria for Scholarship Award consideration per the Scholarship and Financial Assistance Procedure (PR-ST-11).\\n5.1.2 As Scholarship categories vary, applications will be evaluated by the Scholarship Committee per the eligibility requirements outlined in the Scholarship and Financial Assistance Procedure (PR-ST-11).\\n5.1.3 The Scholarship categories, their value, Award d', ' apply to the Continuing and Professional Education Directorate’s offerings.\\n4.0 Policy Statement\\n4.1 Categories\\nThe University supports the following:\\n4.1.1 Scholarship Awards\\n4.1.1.1 Academic Scholarship\\nThese awards are based on academic merit and consider the Student’s academic success in high school and University grades.\\n4.1.1.2 Talent Scholarship\\nA Talent Scholarship award is contingent upon the Student’s distinguished ability and achievements in either sport, arts or the sciences, alongside academic', 'therein.\\n6.2 Scholarship Award Recipients are expected to adhere to the University policies and regulations and abide by the Student Conduct Policy (PL-ST-01).\\n6.3 Scholarship Award Recipients are expected to attend classes, contribute positively to class discussions, and be active participants in the learning process.\\n7.0 Deferral of a Scholarship Award\\n7.1 The Scholarship Award is for a fixed duration as specified in the Scholarship Agreement. Scholarship Award Recipients are expected to remain continuous', ' Fees\\nUDST Post\\nStaff Email\\nWebVPN\\nAcademic Catalog\\nSocial media links\\nTwitter\\nYoutube\\nInstagram\\nFacebook\\nLinkedin\\nAbout UDST\\nInstitutional Excellence (IE)\\nUDST Policies and Procedures\\nScholarship and Financial Assistance Policy\\nScholarship and Financial Assistance Policy\\n1.0 Definitions\\n1.1 The following words and expressions have the meaning hereby assigned to them:\\n1.1.1\\nAcademic Calendar:\\nA representation of the periods associated with the University’s operations, containing the teaching periods, exam a', ' Scholarship Awards are reviewed at the end of each Academic Year by the Director, Admissions and Registration (Registrar) to ensure that Recipients have satisfied the Scholarship Award’s minimum maintenance criteria.\\n5.2.2 In order to maintain their Scholarship Award, Recipients must attain the minimum Cumulative Grade Point Average, earned Credit requirement, and satisfy any other conditions as per the Scholarship and Financial Assistance Procedure (PR-ST-11), and which are detailed in the Recipient’s Sch', 'uration, and maintenance criteria will be determined at the time a Scholarship category is proposed by the President, for Board approval, in alignment with the Emiri Decision.\\n5.1.4 Unless the Scholarship Award specifically prohibits it, Recipients of a Scholarship Award can apply for Student Employment Program consideration.\\n5.1.5 Recipients receiving a Scholarship Award are eligible to apply for a higher value Scholarship Award in subsequent application periods.\\n5.2 Maintenance of Scholarship Awards\\n5.2.1', 'PL-ST-01). Successful appeals will result in the Scholarship Award being reinstated.\\n8.8 There is no warning/probation period and unless stated otherwise in this Policy or the Scholarship and Financial Assistance Procedure (PR-ST-11), the Scholarship Award is cancelled at the conclusion of the Semester.\\n9.0 General\\n9.1 Tuition Waiver\\nScholarship Awards are tuition waivers and are applied as a tuition credit to the University’s tuition assessment. The Student Award Recipient is eligible to receive the value ', 'p consideration in a subsequent Academic Year provided they achieve the\\n\\nminimum application requirements, as outlined in the Scholarship and Financial Assistance Procedure (PR-ST-11).\\n8.5 Scholarship Award Recipients who Withdraw from the University without deferral approval from the Director, Admissions and Registration (Registrar) will have their Scholarship Award cancelled.\\n8.6 Scholarship Award Recipients who are not enrolled for a combined duration of more than 12 months over the lifetime of the Schol', 'of the award in cash after all tuition and related fees owed to the University are paid.\\n9.2 Tuition Transferability\\nScholarship Awards are only applied to the University’s tuition fees. With the exception of official University exchange programs, Scholarship Recipients attending another institution cannot apply Scholarship Awards provided by the University towards the cost of tuition at another institution.\\n9.3 Exchange Students\\nUniversity Students who participate in an official University exchange program']\n"
     ]
    }
   ],
   "source": [
    "retrieved_chunk = [chunks[i] for i in I.tolist()[0]]\n",
    "print(retrieved_chunk)"
   ]
  },
  {
   "cell_type": "code",
   "execution_count": 89,
   "metadata": {},
   "outputs": [],
   "source": [
    "prompt = f\"\"\"\n",
    "Context information is below.\n",
    "---------------------\n",
    "{retrieved_chunk}\n",
    "---------------------\n",
    "Given the context information and not prior knowledge, answer the query.\n",
    "Query: {question}\n",
    "Answer:\n",
    "\"\"\""
   ]
  },
  {
   "cell_type": "code",
   "execution_count": 90,
   "metadata": {},
   "outputs": [],
   "source": [
    "from mistralai import Mistral, UserMessage\n",
    "def mistral(user_message, model=\"mistral-small-latest\", is_json=False):\n",
    "    model = \"mistral-large-latest\"\n",
    "    client = Mistral(api_key=api_key)\n",
    "    messages = [\n",
    "        UserMessage(content=user_message),\n",
    "    ]\n",
    "    chat_response = client.chat.complete(\n",
    "        model=model,\n",
    "        messages=messages,\n",
    "        )\n",
    "    return chat_response.choices[0].message.content"
   ]
  },
  {
   "cell_type": "code",
   "execution_count": 91,
   "metadata": {},
   "outputs": [
    {
     "name": "stdout",
     "output_type": "stream",
     "text": [
      "To get a scholarship at the University, you should follow these steps based on the provided context:\n",
      "\n",
      "1. **Meet Minimum Criteria**: Ensure that you meet or exceed the minimum criteria for Scholarship Award consideration as outlined in the Scholarship and Financial Assistance Procedure (PR-ST-11).\n",
      "\n",
      "2. **Apply for Scholarship**: Submit a scholarship application. The application will be evaluated by the Scholarship Committee based on the eligibility requirements outlined in the Scholarship and Financial Assistance Procedure (PR-ST-11).\n",
      "\n",
      "3. **Scholarship Categories**:\n",
      "   - **Academic Scholarship**: Demonstrate academic merit based on your academic success in high school and University grades.\n",
      "   - **Talent Scholarship**: Show distinguished ability and achievements in either sport, arts, or the sciences, alongside academic performance.\n",
      "\n",
      "4. **Adhere to Policies**: If awarded a scholarship, adhere to the University's policies and regulations, including the Student Conduct Policy (PL-ST-01), attend classes, contribute positively to class discussions, and be active in the learning process.\n",
      "\n",
      "5. **Maintain Eligibility**: To maintain the scholarship, you must attain the minimum Cumulative Grade Point Average (CGPA), earned Credit requirement, and satisfy any other conditions as per the Scholarship and Financial Assistance Procedure (PR-ST-11).\n",
      "\n",
      "6. **Reapply if Necessary**: If your scholarship is canceled or you wish to apply for a higher value scholarship, you can reapply in subsequent application periods provided you achieve the minimum application requirements.\n",
      "\n",
      "7. **Avoid Withdrawal**: Avoid withdrawing from the University without deferral approval from the Director, Admissions and Registration (Registrar), as this may result in the cancellation of your scholarship.\n",
      "\n",
      "By following these steps and adhering to the outlined policies and procedures, you can improve your chances of receiving and maintaining a scholarship at the University.\n"
     ]
    }
   ],
   "source": [
    "response = mistral(prompt)\n",
    "print(response)"
   ]
  }
 ],
 "metadata": {
  "kernelspec": {
   "display_name": "Python 3",
   "language": "python",
   "name": "python3"
  },
  "language_info": {
   "codemirror_mode": {
    "name": "ipython",
    "version": 3
   },
   "file_extension": ".py",
   "mimetype": "text/x-python",
   "name": "python",
   "nbconvert_exporter": "python",
   "pygments_lexer": "ipython3",
   "version": "3.11.9"
  }
 },
 "nbformat": 4,
 "nbformat_minor": 2
}
